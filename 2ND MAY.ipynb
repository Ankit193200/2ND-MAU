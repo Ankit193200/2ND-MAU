{
 "cells": [
  {
   "cell_type": "markdown",
   "id": "307f35dd-9ef5-4f5c-a838-7fda3e694022",
   "metadata": {},
   "source": [
    "# Q1. Anomaly Detection and Its Purpose:\n",
    "\n",
    "Anomaly detection, also known as outlier detection, is the process of identifying patterns in data that do not conform to expected behavior. The purpose is to find instances that deviate significantly from the norm or the majority of the data. Anomalies can represent errors, outliers, or rare events in various applications such as fraud detection, fault detection, and cybersecurity.\n",
    "\n",
    "# Q2. Key Challenges in Anomaly Detection:\n",
    "\n",
    "Imbalanced Data: Anomalies are often rare compared to normal instances, leading to imbalanced datasets.\n",
    "Dynamic Environments: Patterns of normal behavior may change over time, requiring models to adapt.\n",
    "Feature Engineering: Identifying relevant features to distinguish anomalies from normal data can be challenging.\n",
    "Noise: Incomplete or noisy data can complicate the detection of true anomalies.\n",
    "\n",
    "# Q3. Unsupervised vs. Supervised Anomaly Detection:\n",
    "\n",
    "Unsupervised: Models learn from unlabeled data, detecting deviations from the norm without prior knowledge of anomalies.\n",
    "Supervised: Requires labeled data with both normal and anomalous instances for training. The model learns the boundary between normal and anomalous patterns.\n",
    "\n",
    "# Q4. Main Categories of Anomaly Detection Algorithms:\n",
    "\n",
    "Statistical Methods: Based on statistical properties of data, such as mean and standard deviation.\n",
    "Machine Learning Methods: Utilize algorithms like isolation forests, one-class SVM, and k-nearest neighbors.\n",
    "Proximity-Based Methods: Measure distances or similarities between data points.\n",
    "Density-Based Methods: Detect anomalies based on deviations in data density.\n",
    "\n",
    "# Q5. Assumptions of Distance-Based Anomaly Detection:\n",
    "\n",
    "Assumes that normal instances form a dense cluster, while anomalies are isolated or form sparse regions in the data space.\n",
    "Distance metrics (Euclidean distance, Mahalanobis distance) are used to quantify the proximity of data points.\n",
    "\n",
    "# Q6. LOF Algorithm and Anomaly Scores:\n",
    "\n",
    "The Local Outlier Factor (LOF) measures the local density deviation of a data point with respect to its neighbors.\n",
    "Anomaly scores are computed by comparing the density of a point to the average density of its neighbors. A lower density indicates a potential anomaly.\n",
    "\n",
    "# Q7. Key Parameters of Isolation Forest Algorithm:\n",
    "\n",
    "Number of Trees (n_estimators): The total number of trees in the forest.\n",
    "Subsample Size (max_samples): The number of samples used to build each tree.\n",
    "Contamination: The expected proportion of anomalies in the dataset.\n",
    "\n",
    "# Q8. KNN Anomaly Score Calculation:\n",
    "\n",
    "If a data point has only 2 neighbors of the same class within a radius of 0.5 with K=10:\n",
    "Anomaly score is influenced by the fraction of neighbors belonging to the same class. In this case, having only 2 neighbors of the same class might result in a relatively high anomaly score.\n",
    "\n",
    "# Q9. Isolation Forest Anomaly Score Calculation:\n",
    "\n",
    "The anomaly score is related to the average path length of a data point in the isolation trees.\n",
    "Without the actual average path length values, it's challenging to provide an exact score, but a lower average path length relative to the average path length of the trees would indicate a potential anomaly."
   ]
  },
  {
   "cell_type": "code",
   "execution_count": null,
   "id": "61973d73-1070-464d-a5f9-15caea591697",
   "metadata": {},
   "outputs": [],
   "source": []
  }
 ],
 "metadata": {
  "kernelspec": {
   "display_name": "Python 3 (ipykernel)",
   "language": "python",
   "name": "python3"
  },
  "language_info": {
   "codemirror_mode": {
    "name": "ipython",
    "version": 3
   },
   "file_extension": ".py",
   "mimetype": "text/x-python",
   "name": "python",
   "nbconvert_exporter": "python",
   "pygments_lexer": "ipython3",
   "version": "3.10.8"
  }
 },
 "nbformat": 4,
 "nbformat_minor": 5
}
